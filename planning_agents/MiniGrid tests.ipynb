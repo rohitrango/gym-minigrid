{
 "cells": [
  {
   "cell_type": "code",
   "execution_count": 2,
   "metadata": {},
   "outputs": [],
   "source": [
    "'''\n",
    "Base agents that observe partial environments and take actions based on preferences\n",
    "'''\n",
    "import gym\n",
    "import gym_minigrid\n",
    "from gym_minigrid import wrappers\n",
    "from gym_minigrid.minigrid import OBJECT_TO_IDX, COLOR_TO_IDX, STATE_TO_IDX\n",
    "\n",
    "class PlanAgent:\n",
    "    # Agent that has a plan! :D\n",
    "    def __init__(self, env):\n",
    "        # Given the env, get all the parameters like size and agent details\n",
    "        # Env would be wrapped in a wrapper that gives agent location and direction\n",
    "        self.env = env.env\n",
    "        self.agent_view_size = self.env.agent_view_size\n",
    "        self.width = self.env.width\n",
    "        self.height = self.env.height\n",
    "\n",
    "        self.plan = []\n",
    "\n",
    "\n",
    "env = gym.make('MiniGrid-FourRooms-v0')\n",
    "env = wrappers.AgentExtraInfoWrapper(env)"
   ]
  },
  {
   "cell_type": "code",
   "execution_count": 3,
   "metadata": {},
   "outputs": [
    {
     "data": {
      "text/plain": [
       "{'unseen': 0,\n",
       " 'empty': 1,\n",
       " 'wall': 2,\n",
       " 'floor': 3,\n",
       " 'door': 4,\n",
       " 'key': 5,\n",
       " 'ball': 6,\n",
       " 'box': 7,\n",
       " 'goal': 8,\n",
       " 'lava': 9,\n",
       " 'agent': 10}"
      ]
     },
     "execution_count": 3,
     "metadata": {},
     "output_type": "execute_result"
    }
   ],
   "source": [
    "OBJECT_TO_IDX"
   ]
  },
  {
   "cell_type": "code",
   "execution_count": 4,
   "metadata": {},
   "outputs": [
    {
     "data": {
      "text/plain": [
       "{'red': 0, 'green': 1, 'blue': 2, 'purple': 3, 'yellow': 4, 'grey': 5}"
      ]
     },
     "execution_count": 4,
     "metadata": {},
     "output_type": "execute_result"
    }
   ],
   "source": [
    "COLOR_TO_IDX"
   ]
  },
  {
   "cell_type": "code",
   "execution_count": 101,
   "metadata": {},
   "outputs": [],
   "source": [
    "obs = env.reset()"
   ]
  },
  {
   "cell_type": "code",
   "execution_count": 102,
   "metadata": {},
   "outputs": [
    {
     "name": "stdout",
     "output_type": "stream",
     "text": [
      "Using matplotlib backend: Qt5Agg\n",
      "Populating the interactive namespace from numpy and matplotlib\n"
     ]
    },
    {
     "data": {
      "text/plain": [
       "<matplotlib.image.AxesImage at 0x7ff9b238b668>"
      ]
     },
     "execution_count": 102,
     "metadata": {},
     "output_type": "execute_result"
    },
    {
     "data": {
      "image/png": "[encoded data removed]",
      "text/plain": [
       "<Figure size 432x288 with 1 Axes>"
      ]
     },
     "metadata": {
      "needs_background": "light"
     },
     "output_type": "display_data"
    }
   ],
   "source": [
    "%pylab\n",
    "%matplotlib inline\n",
    "plt.imshow(env.render('rgb_array'))"
   ]
  },
  {
   "cell_type": "code",
   "execution_count": 103,
   "metadata": {},
   "outputs": [
    {
     "data": {
      "text/plain": [
       "array([[0, 0, 0, 0, 0, 0, 0],\n",
       "       [2, 2, 2, 2, 2, 2, 2],\n",
       "       [1, 1, 1, 1, 1, 1, 1],\n",
       "       [1, 1, 1, 2, 1, 1, 1],\n",
       "       [1, 1, 1, 2, 1, 1, 1],\n",
       "       [1, 1, 1, 2, 1, 1, 1],\n",
       "       [1, 1, 1, 2, 1, 1, 1]], dtype=uint8)"
      ]
     },
     "execution_count": 103,
     "metadata": {},
     "output_type": "execute_result"
    }
   ],
   "source": [
    "obs['image'][:, :, 0]"
   ]
  },
  {
   "cell_type": "code",
   "execution_count": 104,
   "metadata": {},
   "outputs": [
    {
     "data": {
      "text/plain": [
       "0"
      ]
     },
     "execution_count": 104,
     "metadata": {},
     "output_type": "execute_result"
    }
   ],
   "source": [
    "obs['dir']"
   ]
  },
  {
   "cell_type": "code",
   "execution_count": 105,
   "metadata": {},
   "outputs": [],
   "source": [
    "def rotate_right(grid):\n",
    "    ngrid = grid * 0\n",
    "    H, W = grid.shape[:2]\n",
    "    for i in range(H):\n",
    "        for j in range(W):\n",
    "            ngrid[j, H-1-i] = grid[i, j] + 0\n",
    "    return ngrid"
   ]
  },
  {
   "cell_type": "code",
   "execution_count": 106,
   "metadata": {},
   "outputs": [],
   "source": [
    "img = obs['image']\n",
    "for i in range(obs['dir'] + 1):\n",
    "    img = rotate_right(img)"
   ]
  },
  {
   "cell_type": "code",
   "execution_count": 107,
   "metadata": {},
   "outputs": [
    {
     "data": {
      "text/plain": [
       "array([[1, 1, 1, 2, 1, 1, 1],\n",
       "       [1, 1, 1, 2, 1, 1, 1],\n",
       "       [1, 1, 1, 2, 1, 1, 1],\n",
       "       [1, 1, 1, 2, 1, 1, 1],\n",
       "       [1, 1, 1, 1, 1, 1, 1],\n",
       "       [2, 2, 2, 2, 2, 2, 2],\n",
       "       [0, 0, 0, 0, 0, 0, 0]], dtype=uint8)"
      ]
     },
     "execution_count": 107,
     "metadata": {},
     "output_type": "execute_result"
    }
   ],
   "source": [
    "img[:, :, 0].T"
   ]
  },
  {
   "cell_type": "code",
   "execution_count": null,
   "metadata": {},
   "outputs": [],
   "source": []
  }
 ],
 "metadata": {
  "kernelspec": {
   "display_name": "Python 3",
   "language": "python",
   "name": "python3"
  },
  "language_info": {
   "codemirror_mode": {
    "name": "ipython",
    "version": 3
   },
   "file_extension": ".py",
   "mimetype": "text/x-python",
   "name": "python",
   "nbconvert_exporter": "python",
   "pygments_lexer": "ipython3",
   "version": "3.6.8"
  }
 },
 "nbformat": 4,
 "nbformat_minor": 2
}
