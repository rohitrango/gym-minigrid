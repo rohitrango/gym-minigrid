{
 "cells": [
  {
   "cell_type": "code",
   "execution_count": 1,
   "metadata": {},
   "outputs": [
    {
     "name": "stdout",
     "output_type": "stream",
     "text": [
      "Using matplotlib backend: Qt5Agg\n",
      "Populating the interactive namespace from numpy and matplotlib\n",
      "Warning: Cannot change to a different GUI toolkit: notebook. Using qt instead.\n"
     ]
    }
   ],
   "source": [
    "%pylab\n",
    "%matplotlib notebook\n",
    "import matplotlib\n",
    "from matplotlib import pyplot as plt\n",
    "import numpy as np\n",
    "import matplotlib.pyplot as plt\n",
    "import matplotlib.patches as patches"
   ]
  },
  {
   "cell_type": "code",
   "execution_count": 46,
   "metadata": {},
   "outputs": [],
   "source": [
    "img = np.load('/home/rohitrango/gym-minigrid/gym_minigrid/envs/resources/tmp_grid.npy')\n",
    "# img[38, 32] = 9"
   ]
  },
  {
   "cell_type": "code",
   "execution_count": 47,
   "metadata": {},
   "outputs": [],
   "source": [
    "# img[22, 28] = 2\n",
    "# img[22, 35] = 2\n",
    "# img[27, 28] = 2\n",
    "# np.save('/home/rohitrango/gym-minigrid/gym_minigrid/envs/resources/tmp_grid.npy', img)"
   ]
  },
  {
   "cell_type": "code",
   "execution_count": 48,
   "metadata": {},
   "outputs": [],
   "source": [
    "index_mapping = {\n",
    "            9: 'empty',\n",
    "            8: 'agent',\n",
    "            1: 'agent',\n",
    "            2: 'door',\n",
    "            4: 'wall',\n",
    "            5: 'lava',\n",
    "            6: 'key',\n",
    "            7: 'goal',\n",
    "            3: 'goal',\n",
    "            0: 'wall',\n",
    "            10: 'box',\n",
    "            255: 'box',\n",
    "}\n",
    "\n",
    "keys = set(index_mapping.values())\n",
    "maps = {\n",
    "    'empty': 0,\n",
    "    'door': 100,\n",
    "    'lava': 2, \n",
    "    'agent':3,\n",
    "    'box':3,\n",
    "    'goal':200, \n",
    "    'key': 5,\n",
    "    'wall': 255\n",
    "}"
   ]
  },
  {
   "cell_type": "code",
   "execution_count": 49,
   "metadata": {},
   "outputs": [],
   "source": [
    "img = np.vectorize(lambda x: maps[index_mapping[x]])(img)"
   ]
  },
  {
   "cell_type": "code",
   "execution_count": 50,
   "metadata": {},
   "outputs": [
    {
     "data": {
      "text/plain": [
       "<matplotlib.image.AxesImage at 0x7fac8caa8978>"
      ]
     },
     "execution_count": 50,
     "metadata": {},
     "output_type": "execute_result"
    }
   ],
   "source": [
    "plt.figure(figsize=(14, 14))\n",
    "plt.imshow(img)"
   ]
  },
  {
   "cell_type": "code",
   "execution_count": 51,
   "metadata": {},
   "outputs": [],
   "source": [
    "# Format: (x1, y1, x2, y2)\n",
    "data = []\n",
    "# Upper room\n",
    "data.append((3, 6, 16, 26))\n",
    "data.append((16, 6, 27, 14))\n",
    "data.append((23, 14, 40, 22))\n",
    "data.append((27, 2, 33, 14))\n",
    "data.append((33, 2, 39, 14))\n",
    "data.append((39, 6, 50, 14))\n",
    "data.append((39, 14, 50, 25))\n",
    "data.append((15, 14, 23, 21))\n",
    "\n",
    "# Lower room\n",
    "data.append((26, 23, 32, 35))\n",
    "data.append((20, 27, 26, 48))\n",
    "data.append((20, 35, 33, 48))\n",
    "data.append((5, 25, 12, 32))\n",
    "data.append((32, 28, 40, 35))\n",
    "data.append((20, 35, 33, 43))\n",
    "data.append((33, 35, 40, 48))\n",
    "data.append((40, 35, 48, 48))\n",
    "data.append((40, 22, 48, 35))"
   ]
  },
  {
   "cell_type": "code",
   "execution_count": 52,
   "metadata": {},
   "outputs": [
    {
     "data": {
      "text/plain": [
       "<matplotlib.image.AxesImage at 0x7fac8f69ee80>"
      ]
     },
     "execution_count": 52,
     "metadata": {},
     "output_type": "execute_result"
    }
   ],
   "source": [
    "x1, y1, x2, y2 = data[-1]\n",
    "plt.clf()\n",
    "plt.imshow(img[y1:y2+1, x1:x2+1])"
   ]
  },
  {
   "cell_type": "code",
   "execution_count": 53,
   "metadata": {},
   "outputs": [],
   "source": [
    "## Visualize with all boxes\n",
    "fig,ax = plt.subplots(1)\n",
    "ax.imshow(img, 'gray')\n",
    "for x1, y1, x2, y2 in data:\n",
    "    rect = patches.Rectangle((x1,y1),(x2-x1),(y2-y1),linewidth=2,edgecolor='r',facecolor='none')\n",
    "    ax.add_patch(rect)"
   ]
  },
  {
   "cell_type": "code",
   "execution_count": 26,
   "metadata": {},
   "outputs": [],
   "source": [
    "np.save('/home/rohitrango/gym-minigrid/gym_minigrid/envs/resources/tmp_grid_curriculum.npy', data)"
   ]
  },
  {
   "cell_type": "markdown",
   "metadata": {},
   "source": [
    "# Room segmentation for dog barks\n",
    "\n",
    "This part is for segmentation of rooms so that dog can bark."
   ]
  },
  {
   "cell_type": "code",
   "execution_count": 54,
   "metadata": {},
   "outputs": [],
   "source": [
    "# Format: (x1, y1, x2, y2)\n",
    "data = []\n",
    "# Upper room\n",
    "data.append((20, 6, 27, 14))\n",
    "data.append((23, 14, 40, 22))\n",
    "data.append((27, 6, 33, 14))\n",
    "data.append((33, 6, 39, 14))\n",
    "data.append((39, 6, 48, 14))\n",
    "data.append((40, 14, 48, 22))\n",
    "data.append((20, 14, 23, 21))\n",
    "\n",
    "# Lower room\n",
    "data.append((26, 27, 32, 35))\n",
    "data.append((20, 35, 33, 43))\n",
    "data.append((32, 28, 40, 35))\n",
    "data.append((33, 35, 40, 43))\n",
    "data.append((40, 35, 48, 43))\n",
    "data.append((40, 27, 48, 35))\n",
    "\n",
    "# x1, y1, x2, y2 = data[0]\n",
    "# plt.clf()\n",
    "# plt.imshow(img[y1:y2+1, x1:x2+1])"
   ]
  },
  {
   "cell_type": "code",
   "execution_count": 55,
   "metadata": {},
   "outputs": [],
   "source": [
    "## Visualize with all boxes\n",
    "fig,ax = plt.subplots(1)\n",
    "ax.imshow(img, 'gray')\n",
    "for x1, y1, x2, y2 in data:\n",
    "    rect = patches.Rectangle((x1,y1),(x2-x1),(y2-y1),linewidth=2,edgecolor='r',facecolor='none')\n",
    "    ax.add_patch(rect)"
   ]
  },
  {
   "cell_type": "code",
   "execution_count": 29,
   "metadata": {},
   "outputs": [],
   "source": [
    "np.save('/home/rohitrango/gym-minigrid/gym_minigrid/envs/resources/tmp_grid_roominfo.npy', data)"
   ]
  },
  {
   "cell_type": "code",
   "execution_count": 31,
   "metadata": {},
   "outputs": [],
   "source": []
  },
  {
   "cell_type": "code",
   "execution_count": null,
   "metadata": {},
   "outputs": [],
   "source": []
  }
 ],
 "metadata": {
  "kernelspec": {
   "display_name": "Python 3",
   "language": "python",
   "name": "python3"
  },
  "language_info": {
   "codemirror_mode": {
    "name": "ipython",
    "version": 3
   },
   "file_extension": ".py",
   "mimetype": "text/x-python",
   "name": "python",
   "nbconvert_exporter": "python",
   "pygments_lexer": "ipython3",
   "version": "3.6.9"
  }
 },
 "nbformat": 4,
 "nbformat_minor": 4
}
